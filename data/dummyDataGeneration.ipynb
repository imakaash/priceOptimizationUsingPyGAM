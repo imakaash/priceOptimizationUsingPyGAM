{
 "cells": [
  {
   "cell_type": "code",
   "execution_count": 1,
   "id": "794ed153-d26a-4d7c-9f42-a98559f83ab0",
   "metadata": {},
   "outputs": [
    {
     "name": "stdout",
     "output_type": "stream",
     "text": [
      "   price  quantity_sold                           product         event\n",
      "0  24.98            175  Standard Case | iPhone15 Pro Max  Black Friday\n",
      "1  16.24             98  Standard Case | iPhone15 Pro Max      No Promo\n",
      "2  12.32            103  Standard Case | iPhone15 Pro Max      No Promo\n",
      "3  10.82            148  Standard Case | iPhone15 Pro Max    New iPhone\n",
      "4  43.30             52  Standard Case | iPhone15 Pro Max      No Promo\n"
     ]
    }
   ],
   "source": [
    "import pandas as pd\n",
    "import numpy as np\n",
    "\n",
    "# Set random seed for reproducibility\n",
    "np.random.seed(42)\n",
    "\n",
    "# Define products and events\n",
    "products = [\n",
    "    'Standard Case | iPhone15 Pro Max', \n",
    "    'Premium Case | iPhone15 Pro Max', \n",
    "    'Standard Case | iPhone15', \n",
    "    'Premium Case | iPhone15'\n",
    "]\n",
    "events = ['No Promo', 'Black Friday', 'New iPhone', 'Christmas', 'The Big Game']\n",
    "\n",
    "# Number of data points per product\n",
    "data_points_per_product = 1600 // len(products)\n",
    "\n",
    "# Initialize an empty DataFrame\n",
    "data = []\n",
    "\n",
    "# Generate data for each product\n",
    "for product in products:\n",
    "    for _ in range(data_points_per_product):\n",
    "        # Define price ranges based on product type\n",
    "        if 'Standard Case' in product:\n",
    "            price = np.round(np.random.uniform(10, 50), 2)  # Standard cases: $10 - $50\n",
    "        else:\n",
    "            price = np.round(np.random.uniform(50, 100), 2)  # Premium cases: $50 - $100\n",
    "\n",
    "        # Randomly assign events with 95% probability for 'No Promo'\n",
    "        event = np.random.choice(events, p=[0.95, 0.0125, 0.0125, 0.0125, 0.0125])\n",
    "\n",
    "        # Adjust quantity sold based on price and event to support price elasticity of demand\n",
    "        if event == 'Black Friday':\n",
    "            quantity_sold = int(np.random.normal(200 - price * 1.5, 20))\n",
    "        elif event == 'New iPhone':\n",
    "            quantity_sold = int(np.random.normal(150 - price * 1.2, 15))\n",
    "        elif event == 'Christmas':\n",
    "            quantity_sold = int(np.random.normal(180 - price * 1.3, 18))\n",
    "        elif event == 'The Big Game':\n",
    "            quantity_sold = int(np.random.normal(170 - price * 1.4, 17))\n",
    "        else:  # No Promo\n",
    "            quantity_sold = int(np.random.normal(100 - price, 10))\n",
    "\n",
    "        # Ensure quantity_sold is non-negative\n",
    "        quantity_sold = max(quantity_sold, 0)\n",
    "\n",
    "        # Append the row to the data list\n",
    "        data.append([price, quantity_sold, product, event])\n",
    "\n",
    "# Create a DataFrame\n",
    "df = pd.DataFrame(data, columns=['price', 'quantity_sold', 'product', 'event'])\n",
    "\n",
    "# Export the DataFrame to a CSV file\n",
    "df.to_csv('retail_price.csv', index=False)\n",
    "\n",
    "# Display the first few rows of the DataFrame\n",
    "print(df.head())"
   ]
  },
  {
   "cell_type": "code",
   "execution_count": null,
   "id": "e129fd83-629e-47e8-bb83-4f91d8226c8c",
   "metadata": {},
   "outputs": [],
   "source": []
  }
 ],
 "metadata": {
  "kernelspec": {
   "display_name": "Python [conda env:base] *",
   "language": "python",
   "name": "conda-base-py"
  },
  "language_info": {
   "codemirror_mode": {
    "name": "ipython",
    "version": 3
   },
   "file_extension": ".py",
   "mimetype": "text/x-python",
   "name": "python",
   "nbconvert_exporter": "python",
   "pygments_lexer": "ipython3",
   "version": "3.12.7"
  }
 },
 "nbformat": 4,
 "nbformat_minor": 5
}
